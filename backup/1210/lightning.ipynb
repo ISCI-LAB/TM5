{
 "cells": [
  {
   "cell_type": "code",
   "execution_count": 2,
   "id": "80bfbaab",
   "metadata": {},
   "outputs": [],
   "source": [
    "import pytorch_lightning as pl\n",
    "import torch\n",
    "import torch.nn as nn\n",
    "import torch.nn.functional as F\n",
    "import matplotlib.pyplot as plt\n",
    "import numpy as np\n",
    "import logging\n",
    "import torch.optim as optim\n",
    "from torch.optim import lr_scheduler\n",
    "from torch.utils.data import DataLoader\n",
    "import torch.utils.data as Data\n"
   ]
  },
  {
   "cell_type": "code",
   "execution_count": 7,
   "id": "b3f8042f",
   "metadata": {},
   "outputs": [],
   "source": [
    "x = torch.unsqueeze(torch.linspace(-1, 1, 100), dim=1)  # x data (tensor), shape=(100, 1)\n",
    "y = x.pow(2) + 0.2*torch.rand(x.size())                 # noisy y data (tensor), shape=(100, 1)\n",
    "\n",
    "# T = np.arctan2(y,x)\n",
    "torch_dataset = Data.TensorDataset(x, y)\n"
   ]
  },
  {
   "cell_type": "code",
   "execution_count": 4,
   "id": "5a9198db",
   "metadata": {},
   "outputs": [
    {
     "data": {
      "text/plain": [
       "torch.Size([1])"
      ]
     },
     "execution_count": 4,
     "metadata": {},
     "output_type": "execute_result"
    }
   ],
   "source": [
    "x, y = torch_dataset[0]\n",
    "x.shape"
   ]
  },
  {
   "cell_type": "code",
   "execution_count": 5,
   "id": "b0020a27",
   "metadata": {},
   "outputs": [
    {
     "ename": "NameError",
     "evalue": "name 'data_set' is not defined",
     "output_type": "error",
     "traceback": [
      "\u001b[0;31m---------------------------------------------------------------------------\u001b[0m",
      "\u001b[0;31mNameError\u001b[0m                                 Traceback (most recent call last)",
      "\u001b[0;32m<ipython-input-5-6f46807c0031>\u001b[0m in \u001b[0;36m<module>\u001b[0;34m\u001b[0m\n\u001b[0;32m----> 1\u001b[0;31m \u001b[0mdata_set\u001b[0m\u001b[0;34m\u001b[0m\u001b[0;34m\u001b[0m\u001b[0m\n\u001b[0m",
      "\u001b[0;31mNameError\u001b[0m: name 'data_set' is not defined"
     ]
    }
   ],
   "source": [
    "data_set"
   ]
  },
  {
   "cell_type": "code",
   "execution_count": 8,
   "id": "6fdb75ac",
   "metadata": {},
   "outputs": [
    {
     "data": {
      "image/png": "[encoded data removed]",
      "text/plain": [
       "<Figure size 432x288 with 1 Axes>"
      ]
     },
     "metadata": {
      "needs_background": "light"
     },
     "output_type": "display_data"
    }
   ],
   "source": [
    "# plt.ion()   # something about plotting\n",
    "plt.scatter(x,y,s=75,alpha=0.5)\n",
    "# plt.ioff()\n",
    "plt.show()"
   ]
  },
  {
   "cell_type": "code",
   "execution_count": null,
   "id": "92987375",
   "metadata": {},
   "outputs": [],
   "source": [
    "class Net(torch.nn.Module):\n",
    "    def __init__(self, n_feature, n_hidden, n_output):\n",
    "        super(Net, self).__init__()\n",
    "        self.hidden = torch.nn.Linear(n_feature, n_hidden)   # hidden layer\n",
    "#         self.predict = torch.nn.Linear(n_hidden, n_output)   # output layer\n",
    "\n",
    "    def forward(self, x):\n",
    "        x = F.relu(self.hidden(x))      # activation function for hidden layer\n",
    "#         x = self.predict(x)             # linear output\n",
    "        return x"
   ]
  },
  {
   "cell_type": "code",
   "execution_count": null,
   "id": "67357bef",
   "metadata": {},
   "outputs": [],
   "source": [
    "model = Net(n_feature=1, n_hidden=10, n_output=1)\n",
    "for i in range(len(list(model.parameters()))):  # 查看模型参数\n",
    "    print('params: %d' % (i + 1), list(model.parameters())[i].size())"
   ]
  },
  {
   "cell_type": "code",
   "execution_count": null,
   "id": "56447493",
   "metadata": {},
   "outputs": [],
   "source": [
    "BOX = DataLoader(torch_dataset, batch_size= 1, shuffle=True)"
   ]
  },
  {
   "cell_type": "code",
   "execution_count": null,
   "id": "4a383172",
   "metadata": {},
   "outputs": [],
   "source": [
    "x, y = next(iter(BOX))"
   ]
  },
  {
   "cell_type": "code",
   "execution_count": null,
   "id": "9adec424",
   "metadata": {},
   "outputs": [],
   "source": [
    "x.view(-1,1)"
   ]
  },
  {
   "cell_type": "code",
   "execution_count": null,
   "id": "a9f79312",
   "metadata": {},
   "outputs": [],
   "source": [
    "class PytorchLightningModel(pl.LightningModule): # 這邊一定要繼承pl.LightningModule\n",
    "    def __init__(self): # 初始化時可以將基本設定傳入。\n",
    "        super().__init__()\n",
    "        self.ln1 = nn.Linear(1, 10)\n",
    "        self.ln2 = nn.Linear(10, 1)\n",
    "        self.batch_size = 1\n",
    "    def prepare_data(self): # 此方法會在初始化後優先執行。 所以可以在此方法中先將會用到的資料都讀取進來.\n",
    "        self.train_set = torch_dataset # read_data是自定義的讀取資料Method. 可以按照自己需求調整\n",
    "        self.test_set = torch_dataset\n",
    "        self.val_set = torch_dataset\n",
    "        logging.info(\"===== Data is ready... =====\")\n",
    "\n",
    "    def configure_optimizer(self): # 自動訓練時會呼叫此方法來獲取Optimizer.\n",
    "        return Adam(self.parameters(), lr=1e-3) # 這邊注意要調整的參數是`self.parameters()`\n",
    "\n",
    "    # 以下三個方法則是設定進行訓練及驗證時所要使用的Data Loader格式。\n",
    "    def train_dataloader(self):\n",
    "        return DataLoader(self.train_set, batch_size= self.batch_size, shuffle=True)\n",
    "\n",
    "    def val_dataloader(self):\n",
    "        return DataLoader(self.val_set, batch_size= self.batch_size, shuffle=True)\n",
    "\n",
    "    def test_dataloader(self):\n",
    "        return DataLoader(self.test_set, batch_size= self.batch_size, shuffle=True)\n",
    "\n",
    "    def forward(self, x): # 定義模型在forward propagation時如何進行.\n",
    "        output = F.relu(self.ln1(x))\n",
    "#         output = output.view(-1,10)\n",
    "        output = self.ln2(output)\n",
    "        return output\n",
    "\n",
    "    def training_step(self, batch, batch_idx): # 定義訓練過程的Step要如何進行\n",
    "        x, y = batch # 從self.train_dataloader()的Data Loader取一個batch出來。\n",
    "#         x.view(-1,1)\n",
    "        output = self.forward(x)\n",
    "#         criterion = nn.CrossEntropyLoss()\n",
    "        criterion = torch.nn.MSELoss()\n",
    "        loss = criterion(output, y)\n",
    "        logs = {'loss': loss}\n",
    "        return {'loss':loss, 'log':logs}\n",
    "\n",
    "    def validation_step(self, batch, batch_idx): # 定義Validation如何進行，以這邊為例就再加上了計算Acc.\n",
    "        x, y = batch # 從self.train_dataloader()的Data Loader取一個batch出來。\n",
    "#         x.view(-1,1)\n",
    "        logits = self.forward(x)\n",
    "#         loss = F.cross_entropy(logits, y)]\n",
    "        loss = F.mse_loss(logits,y)\n",
    "\n",
    "        # acc\n",
    "#         a, y_hat = torch.max(logits, dim=1)\n",
    "#         val_acc = accuracy_score(y_hat.cpu(), y.cpu())\n",
    "#         val_acc = torch.tensor(val_acc)\n",
    "\n",
    "        return {'val_loss': loss}#, 'val_acc': val_acc}\n",
    "\n",
    "    def validation_epoch_end(self, outputs): # 在Validation的一個Epoch結束後，計算平均的Loss及Acc.\n",
    "        avg_loss = torch.stack([x['val_loss'] for x in outputs]).mean()\n",
    "#         avg_val_acc = torch.stack([x['val_acc'] for x in outputs]).mean()\n",
    "        tensorboard_logs = {\"val_mse_loss\": avg_loss}\n",
    "        progress_bar_metrics = tensorboard_logs\n",
    "#         tensorboard_logs = {'val_loss': avg_loss, 'avg_val_acc': avg_val_acc}\n",
    "        return {'avg_val_loss': avg_loss, 'progress_bar': progress_bar_metrics}\n",
    "\n",
    "    def test_step(self, batch, batch_idx): #定義 Test 階段\n",
    "        x, y = batch # 從self.train_dataloader()的Data Loader取一個batch出來。\n",
    "#         x.view(-1,1)\n",
    "        logits = self.forward(x)\n",
    "#         loss = F.cross_entropy(logits, y)\n",
    "        loss = F.mse_loss(logits,y)\n",
    "        # acc\n",
    "#         a, y_hat = torch.max(logits, dim=1)\n",
    "#         val_acc = accuracy_score(y_hat.cpu(), y.cpu())\n",
    "#         val_acc = torch.tensor(val_acc)\n",
    "\n",
    "        return {'test_loss': loss}"
   ]
  },
  {
   "cell_type": "code",
   "execution_count": null,
   "id": "45e949ff",
   "metadata": {},
   "outputs": [],
   "source": [
    "model = PytorchLightningModel() # 自行封裝成Pytorch Lightning的模型\n",
    "\n",
    "# Trainer 有不同的參數可以調整訓練時的行為\n",
    "# trainer = pl.Trainer() # 使用CPU\n",
    "trainer = pl.Trainer(gpus=1) # 使用GPU\n",
    "trainer = pl.Trainer(fast_dev_run=True) #訓練時，使用單一個batch作為ㄧ個Epoch，目的是快速的確認當前的模型設置有無結構上的問題(快速地跑完Train -> Validation -> Test)。\n",
    "for i in range(100):\n",
    "    trainer.fit(model) # 呼叫.fit() 就會自動進行Model的training step及validation step.\n",
    "    "
   ]
  },
  {
   "cell_type": "code",
   "execution_count": null,
   "id": "6bbdffbd",
   "metadata": {},
   "outputs": [],
   "source": [
    "model"
   ]
  },
  {
   "cell_type": "code",
   "execution_count": null,
   "id": "0b98c99e",
   "metadata": {},
   "outputs": [],
   "source": [
    "# plot and show learning process\n",
    "plt.cla()\n",
    "plt.scatter(x.data.numpy(), y.data.numpy())\n",
    "prediction = model(x)\n",
    "plt.plot(x.data.numpy(), prediction.data.numpy(), 'r-', lw=5)\n",
    "# plt.text(0.5, 0, 'Loss=%.4f' % loss.data.numpy(), fontdict={'size': 20, 'color':  'red'})\n",
    "plt.pause(0.1)"
   ]
  },
  {
   "cell_type": "code",
   "execution_count": 16,
   "id": "0e642765",
   "metadata": {},
   "outputs": [
    {
     "name": "stdout",
     "output_type": "stream",
     "text": [
      "False None None torch.Size([1, 4, 6])\n"
     ]
    }
   ],
   "source": [
    "g = torch.tensor([[[1., 2., 3., 4., 5., 6.],\n",
    "                 [1., 2., 3., 4., 5., 6.],\n",
    "                 [1., 2., 3., 4., 5., 6.],\n",
    "                 [1., 2., 3., 4., 5., 6.]]])#,requires_grad=True)\n",
    "p = torch.tensor([[[3., 4., 1., 1., 1., 1.],\n",
    "                 [3., 4., 1., 1., 1., 1.],\n",
    "                 [3., 4., 1., 1., 1., 1.],\n",
    "                 [3., 4., 1., 1., 1., 1.]]])#,requires_grad=True)\n",
    "# g = g*5\n",
    "print(g.requires_grad,g.grad,g.grad_fn,g.shape)"
   ]
  },
  {
   "cell_type": "code",
   "execution_count": 67,
   "id": "8f4f006d",
   "metadata": {},
   "outputs": [
    {
     "name": "stdout",
     "output_type": "stream",
     "text": [
      "tensor([[[1., 1., 1., 1.],\n",
      "         [2., 2., 2., 2.],\n",
      "         [3., 3., 3., 3.],\n",
      "         [4., 4., 4., 4.],\n",
      "         [5., 5., 5., 5.],\n",
      "         [6., 6., 6., 6.]]])\n",
      "tensor([[[3., 3., 3., 3.],\n",
      "         [4., 4., 4., 4.],\n",
      "         [1., 1., 1., 1.],\n",
      "         [1., 1., 1., 1.],\n",
      "         [1., 1., 1., 1.],\n",
      "         [1., 1., 1., 1.]]])\n"
     ]
    }
   ],
   "source": [
    "g_ = g.permute(0,2,1)\n",
    "p_ = p.permute(0,2,1)\n",
    "print(g_)\n",
    "print(p_)"
   ]
  },
  {
   "cell_type": "code",
   "execution_count": 46,
   "id": "31711fae",
   "metadata": {},
   "outputs": [
    {
     "data": {
      "text/plain": [
       "tensor([[[0., 1., 1., 1.],\n",
       "         [1., 2., 2., 2.],\n",
       "         [2., 3., 3., 3.],\n",
       "         [3., 4., 4., 4.],\n",
       "         [4., 5., 5., 5.],\n",
       "         [5., 6., 6., 6.]]])"
      ]
     },
     "execution_count": 46,
     "metadata": {},
     "output_type": "execute_result"
    }
   ],
   "source": [
    "unit_q = torch.cat((torch.ones(1,6,1),torch.zeros(1,6,3)),dim=2)\n",
    "result = g_ - unit_q\n",
    "result"
   ]
  },
  {
   "cell_type": "code",
   "execution_count": 59,
   "id": "2d2986ea",
   "metadata": {},
   "outputs": [
    {
     "data": {
      "text/plain": [
       "tensor([[[ 1.7321],\n",
       "         [ 3.4641],\n",
       "         [ 5.1962],\n",
       "         [ 6.9282],\n",
       "         [ 8.6603],\n",
       "         [10.3923]]])"
      ]
     },
     "execution_count": 59,
     "metadata": {},
     "output_type": "execute_result"
    }
   ],
   "source": [
    "pre_norm = torch.index_select(result, dim=2, index=torch.tensor([1,2,3]), out=None)\n",
    "torch.norm(pre_norm,p=2,dim=2,out=None,keepdim=True)"
   ]
  },
  {
   "cell_type": "code",
   "execution_count": 93,
   "id": "28971edf",
   "metadata": {},
   "outputs": [
    {
     "name": "stdout",
     "output_type": "stream",
     "text": [
      "tensor([[[49.],\n",
      "         [36.],\n",
      "         [25.]]])\n"
     ]
    },
    {
     "data": {
      "text/plain": [
       "tensor(36.6667)"
      ]
     },
     "execution_count": 93,
     "metadata": {},
     "output_type": "execute_result"
    }
   ],
   "source": [
    "pred = torch.tensor([[[1.],\n",
    "                     [1.],\n",
    "                     [1.],\n",
    "                     [1.],\n",
    "                     [1.],\n",
    "                     [1.]]])\n",
    "label = torch.tensor([[[3.],\n",
    "                     [4.],\n",
    "                     [5.],\n",
    "                     [6.],\n",
    "                     [7.],\n",
    "                     [8.]]])\n",
    "\n",
    "A = torch.pow((pred - label), 2)\n",
    "loss , indice =torch.topk(A, 3, dim=1, largest=True, sorted=True, out=None)\n",
    "print(loss)\n",
    "# loss.sum(dim=1)\n",
    "torch.mean(loss)"
   ]
  }
 ],
 "metadata": {
  "kernelspec": {
   "display_name": "Python 3",
   "language": "python",
   "name": "python3"
  },
  "language_info": {
   "codemirror_mode": {
    "name": "ipython",
    "version": 3
   },
   "file_extension": ".py",
   "mimetype": "text/x-python",
   "name": "python",
   "nbconvert_exporter": "python",
   "pygments_lexer": "ipython3",
   "version": "3.6.9"
  }
 },
 "nbformat": 4,
 "nbformat_minor": 5
}
