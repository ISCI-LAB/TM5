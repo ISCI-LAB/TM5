{
 "cells": [
  {
   "cell_type": "code",
   "execution_count": 1,
   "id": "7897f2b5",
   "metadata": {},
   "outputs": [
    {
     "ename": "ModuleNotFoundError",
     "evalue": "No module named 'numpy'",
     "output_type": "error",
     "traceback": [
      "\u001b[0;31m---------------------------------------------------------------------------\u001b[0m",
      "\u001b[0;31mModuleNotFoundError\u001b[0m                       Traceback (most recent call last)",
      "\u001b[0;32m<ipython-input-1-21387cb4fa3e>\u001b[0m in \u001b[0;36m<module>\u001b[0;34m\u001b[0m\n\u001b[1;32m      1\u001b[0m \u001b[0;32mimport\u001b[0m \u001b[0mmultiprocessing\u001b[0m\u001b[0;34m\u001b[0m\u001b[0;34m\u001b[0m\u001b[0m\n\u001b[1;32m      2\u001b[0m \u001b[0;32mimport\u001b[0m \u001b[0mtime\u001b[0m\u001b[0;34m\u001b[0m\u001b[0;34m\u001b[0m\u001b[0m\n\u001b[0;32m----> 3\u001b[0;31m \u001b[0;32mimport\u001b[0m \u001b[0mnumpy\u001b[0m \u001b[0;32mas\u001b[0m \u001b[0mnp\u001b[0m\u001b[0;34m\u001b[0m\u001b[0;34m\u001b[0m\u001b[0m\n\u001b[0m\u001b[1;32m      4\u001b[0m \u001b[0mSHAPE\u001b[0m \u001b[0;34m=\u001b[0m \u001b[0;34m(\u001b[0m\u001b[0;36m2\u001b[0m\u001b[0;34m,\u001b[0m \u001b[0;36m3\u001b[0m\u001b[0;34m)\u001b[0m\u001b[0;34m\u001b[0m\u001b[0;34m\u001b[0m\u001b[0m\n\u001b[1;32m      5\u001b[0m \u001b[0mglobal_arr_shared\u001b[0m \u001b[0;34m=\u001b[0m \u001b[0;32mNone\u001b[0m\u001b[0;34m\u001b[0m\u001b[0;34m\u001b[0m\u001b[0m\n",
      "\u001b[0;31mModuleNotFoundError\u001b[0m: No module named 'numpy'"
     ]
    }
   ],
   "source": [
    "import multiprocessing \n",
    "import time\n",
    "import numpy as np \n",
    "SHAPE = (2, 3)\n",
    "global_arr_shared = None\n",
    "def init_pool(arr_shared):\n",
    "    global global_arr_shared\n",
    "    global_arr_shared = arr_shared\n",
    "def worker(i):\n",
    "    arr = np.frombuffer(global_arr_shared, np.double).reshape(SHAPE)\n",
    "    time.sleep(1)  # some other operations\n",
    "    return np.sum(arr * i)\n",
    "if __name__ == '__main__':\n",
    "    arr = np.random.randn(*SHAPE)\n",
    "    arr_shared = multiprocessing.RawArray('d', arr.ravel())\n",
    "    with multiprocessing.Pool(processes=2, initializer=init_pool, initargs=(arr_shared,)) as pool:  # initargs传入tuple\n",
    "        for result in pool.map(worker, [1,2,3]):\n",
    "            print(result)"
   ]
  },
  {
   "cell_type": "code",
   "execution_count": null,
   "id": "b5e91fed",
   "metadata": {},
   "outputs": [],
   "source": [
    "import multiprocessing as mp\n",
    "def job(x):\n",
    "    return x*x\n",
    "pool = mp.Pool()\n",
    "res = pool.map(job, range(10))\n"
   ]
  },
  {
   "cell_type": "code",
   "execution_count": null,
   "id": "dda3efb7",
   "metadata": {},
   "outputs": [],
   "source": [
    "import numpy as np \n",
    "save_path = 'pre_grasp'\n",
    "A = np.load('{}/{}_pre_grasp.npy'.format(save_path, 0))\n",
    "A.shapea\n",
    "# A.nonzero()\n",
    "# A[19809,:]"
   ]
  },
  {
   "cell_type": "code",
   "execution_count": null,
   "id": "9a3518fd",
   "metadata": {},
   "outputs": [],
   "source": [
    "# 1. 创建一个Manger对象\n",
    "manager = multiprocessing.Manager()\n",
    "# 2. 创建一个dict\n",
    "temp_dict = manager.dict()\n",
    "# 3. 创建一个测试程序\n",
    "def test(idx, test_dict):\n",
    "    test_dict[idx] = idx\n",
    "# 4. 创建进程池进行测试\n",
    "pool = multiprocessing.Pool(4)\n",
    "for i in range(100):\n",
    "    pool.apply_async(test, args=(i, temp_dict))\n",
    "pool.close()\n",
    "pool.join()\n",
    "print(temp_dict)"
   ]
  },
  {
   "cell_type": "code",
   "execution_count": null,
   "id": "89a3ab85",
   "metadata": {},
   "outputs": [],
   "source": [
    "import torch\n",
    "import torch.utils.data as Data\n",
    "import numpy as np\n",
    "\n",
    "test = np.array([0,1,2,3,4,5,6,7,8,9,10,11])\n",
    "\n",
    "inputing = torch.tensor(np.array([test[i:i + 3] for i in range(10)]))\n",
    "target = torch.tensor(np.array([test[i:i + 1] for i in range(10)]))\n",
    "\n",
    "torch_dataset = Data.TensorDataset(inputing,target)\n",
    "batch = 3\n",
    "\n",
    "loader = Data.DataLoader(\n",
    " dataset=torch_dataset,\n",
    " batch_size=batch,\n",
    "\n",
    " )\n",
    "\n",
    "for (i, j) in loader:\n",
    "\n",
    " print(i)\n",
    " print(j)"
   ]
  },
  {
   "cell_type": "code",
   "execution_count": null,
   "id": "623a9918",
   "metadata": {},
   "outputs": [],
   "source": [
    "[torch_dataset.__getitem__(i) for i in range(3) ]"
   ]
  },
  {
   "cell_type": "code",
   "execution_count": null,
   "id": "246599ed",
   "metadata": {},
   "outputs": [],
   "source": [
    "temp = np.array([1,2,3])\n",
    "DIC1 = {'A':A,'B':np.array([4,5,6]),'C':np.array([7,8,9])}\n",
    "DIC2 = {'A':A,'B':np.array([44,55,66]),'C':np.array([77,88,99])}\n",
    "c = [DIC1,DIC2]\n",
    "c"
   ]
  },
  {
   "cell_type": "code",
   "execution_count": null,
   "id": "306696d8",
   "metadata": {},
   "outputs": [],
   "source": [
    "import collections.abc as container_abcs"
   ]
  },
  {
   "cell_type": "code",
   "execution_count": null,
   "id": "12bf00ba",
   "metadata": {},
   "outputs": [],
   "source": [
    "def collate_fn(batch):\n",
    "    if type(batch[0]).__module__ == 'numpy':\n",
    "        return torch.stack([torch.from_numpy(b) for b in batch], 0)\n",
    "    elif isinstance(batch[0], container_abcs.Mapping):\n",
    "        return {key:collate_fn([d[key] for d in batch]) for key in batch[0]}\n",
    "    elif isinstance(batch[0], container_abcs.Sequence):\n",
    "        return [[torch.from_numpy(sample) for sample in b] for b in batch]\n",
    "    \n",
    "    raise TypeError(\"batch must contain tensors, dicts or lists; found {}\".format(type(batch[0])))\n",
    "    "
   ]
  },
  {
   "cell_type": "code",
   "execution_count": null,
   "id": "e0b39d90",
   "metadata": {},
   "outputs": [],
   "source": [
    "collate_fn(c)"
   ]
  },
  {
   "cell_type": "code",
   "execution_count": null,
   "id": "5033ff9f",
   "metadata": {},
   "outputs": [],
   "source": []
  }
 ],
 "metadata": {
  "kernelspec": {
   "display_name": "Python 3",
   "language": "python",
   "name": "python3"
  },
  "language_info": {
   "codemirror_mode": {
    "name": "ipython",
    "version": 3
   },
   "file_extension": ".py",
   "mimetype": "text/x-python",
   "name": "python",
   "nbconvert_exporter": "python",
   "pygments_lexer": "ipython3",
   "version": "3.6.9"
  },
  "toc": {
   "base_numbering": 1,
   "nav_menu": {},
   "number_sections": true,
   "sideBar": true,
   "skip_h1_title": false,
   "title_cell": "Table of Contents",
   "title_sidebar": "Contents",
   "toc_cell": false,
   "toc_position": {},
   "toc_section_display": true,
   "toc_window_display": false
  }
 },
 "nbformat": 4,
 "nbformat_minor": 5
}
